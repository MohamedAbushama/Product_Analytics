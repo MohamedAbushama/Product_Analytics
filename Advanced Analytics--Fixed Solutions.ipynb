{
 "cells": [
  {
   "cell_type": "markdown",
   "metadata": {},
   "source": [
    "# Conclusion"
   ]
  },
  {
   "cell_type": "markdown",
   "metadata": {},
   "source": [
    ">> First I created a revenue column from sales, price, and cost columns\n",
    ">> Germany is the most dominant in sales and revenue followed by Austria\n",
    "Shoes are the most dominant product in the dataset by 60000 record followed by hardware accessories by 20000\n",
    "The most frequent year is 2015 followed by 2016\n",
    "\n",
    ">> women with 70% frequency in the dataset, and the 30% left between men, kids, and unisex, additional regular style is the most requested style in the dataset by 50%, and 30% of wide style \n",
    "\n",
    ">> The regular price is less when the purchase happened than the regular price with no purchase incidence \n",
    "\n",
    ">> The promotion 1&2 average is higher when purchase happened than promotion with no purchase, which means that our customers are sensitive to promotions\n",
    "\n",
    "\n",
    ">> The highest actual revenue was in 2015, and Germany produces the highest sales and revenue followed by Austria\n",
    "\n",
    ">> Training, running, and football generic are the best sales and revenue in category, and shoes is the best product>> produces sales\n",
    "\n",
    ">> article AA7884 is the second best article produces revenue but not sales and it's not falling under one category or product group\n",
    "\n",
    ">> However France getting the highest promotion average through years, Germany has the highest sales and revenue among those countries.\n",
    "\n",
    "\n",
    ">> Highest sales from customers originated in Austria\n",
    "\n",
    ">> Highest Sold product Hardware Accessories, and Golf Category\n",
    "\n",
    ">> France highest sold product are shorts, and for Austria are shoes \n",
    "\n",
    ">> France & Austria highest sold category is Training\n",
    "\n",
    "\n",
    "\n",
    "\n",
    "## Recommendations\n",
    "\n",
    ">> To target the right people with the most sold products and categories in their country\n",
    "\n",
    ">> Germany for instance obviuosly are much interseted in Golf category, so will be a good move to target these group with the promotions to increase the number of sales and revenue as well\n",
    ">> some articles like AA7884 produces relatively high revenue comparing to their sales number, which means we need to focus on the marketing for this kind of article to be seen more to the target group, consecuently increase the revenue from such move.\n",
    ">> Focus on providing more promotion to Germany target group, as they provide the highest sales and revenue but they are lower average of promotion than France.\n",
    "\n",
    "## Model\n",
    "\n",
    ">> I have used several Supervided models after preprocessing and balancing the target class\n",
    "\n",
    ">> Logistic Regression and XGBoost gave me the highes AUC score, I used this as my evaluation metric due to the high embalancing found in the target class\n",
    "\n",
    ">> I have evaluated my models before and after balancing, it was very bad, the model even didi't recognize any positive incidence due to the high difference between the two binary classes (13%,87%)\n",
    "\n",
    ">> The models maybe alittle bit underfitted in some models because I did RandomUnderSampling to the target feature and lost alot of data. "
   ]
  },
  {
   "cell_type": "code",
   "execution_count": null,
   "metadata": {},
   "outputs": [],
   "source": []
  }
 ],
 "metadata": {
  "kernelspec": {
   "display_name": "Python 3",
   "language": "python",
   "name": "python3"
  },
  "language_info": {
   "codemirror_mode": {
    "name": "ipython",
    "version": 3
   },
   "file_extension": ".py",
   "mimetype": "text/x-python",
   "name": "python",
   "nbconvert_exporter": "python",
   "pygments_lexer": "ipython3",
   "version": "3.7.6"
  }
 },
 "nbformat": 4,
 "nbformat_minor": 4
}
